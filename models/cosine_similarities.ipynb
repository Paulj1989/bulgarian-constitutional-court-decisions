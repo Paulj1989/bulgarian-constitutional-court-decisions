{
 "cells": [
  {
   "cell_type": "code",
   "execution_count": 1,
   "metadata": {},
   "outputs": [
    {
     "name": "stderr",
     "output_type": "stream",
     "text": [
      "[nltk_data] Downloading package punkt to\n",
      "[nltk_data]     C:\\Users\\schap\\AppData\\Roaming\\nltk_data...\n",
      "[nltk_data]   Package punkt is already up-to-date!\n"
     ]
    }
   ],
   "source": [
    "import numpy as np\n",
    "from numpy import *\n",
    "from numpy import random # random data\n",
    "import csv\n",
    "import pandas as pd\n",
    "import matplotlib.pyplot as plt\n",
    "from collections import Counter\n",
    "from itertools import chain\n",
    "import nltk\n",
    "nltk.download('punkt')\n",
    "import codecs\n",
    "import string\n",
    "from nltk.corpus import stopwords\n",
    "import re\n",
    "import pprint\n",
    "import random\n",
    "from urllib import request\n",
    "from nltk import word_tokenize\n",
    "from nltk.corpus import brown\n",
    "from nltk.corpus import wordnet as wn\n",
    "\n",
    "from nltk.stem import SnowballStemmer\n",
    "snowball_stemmer = SnowballStemmer(\"english\")\n",
    "from nltk.stem import PorterStemmer\n",
    "from nltk.stem.wordnet import WordNetLemmatizer\n",
    "wordnet_lemmatizer = WordNetLemmatizer()"
   ]
  },
  {
   "cell_type": "code",
   "execution_count": 2,
   "metadata": {},
   "outputs": [],
   "source": [
    "import gensim\n",
    "# the model is organized like this: word = embeddings\n",
    "small_model = gensim.models.KeyedVectors.load_word2vec_format('/Users/schap/Desktop/Text Analysis/small-embeddings.txt', binary=False)"
   ]
  },
  {
   "cell_type": "code",
   "execution_count": 17,
   "metadata": {},
   "outputs": [],
   "source": [
    "exclude = set(string.punctuation)\n",
    "stop_word_list = stopwords.words('english')\n",
    "\n",
    "# input should be a string - we need a simple pipeline for getting word embeddings\n",
    "def nlp_simple_pipeline(text):\n",
    "    \n",
    "    text = str(text)\n",
    "    \n",
    "    #it depends if the words have been lowercased or not\n",
    "    text = text.lower()\n",
    "    \n",
    "    text = nltk.word_tokenize(text)\n",
    "        \n",
    "    text = [token for token in text if token not in exclude and token.isalpha()]\n",
    "    \n",
    "    text = [token for token in text if token not in stop_word_list]\n",
    "\n",
    "    return text"
   ]
  },
  {
   "cell_type": "code",
   "execution_count": 19,
   "metadata": {},
   "outputs": [],
   "source": [
    "def article_embedding(cleaned_article):\n",
    "    \n",
    "    article_embedd = []\n",
    "    # for each word in the article, you take the embeddings\n",
    "    for word in cleaned_article:\n",
    "        try:\n",
    "            embed_word = small_model[word]\n",
    "            article_embedd.append(embed_word)\n",
    "        except KeyError as e:\n",
    "            print (e,word)\n",
    "            continue\n",
    "    \n",
    "    # average vectors of all words\n",
    "    avg = [float(sum(col))/len(col) for col in zip(*article_embedd)]\n",
    "    avg = np.array(avg).reshape(1, -1)\n",
    "    return avg"
   ]
  },
  {
   "cell_type": "code",
   "execution_count": 11,
   "metadata": {},
   "outputs": [],
   "source": [
    "#d4april211992 is the political parties decision used to make dictionaries\n",
    "politicalparties = codecs.open(\"/Users/schap/Desktop/TA_Data/AC/1992/TXT_Files/D4.Apr21.1992.MAJ.txt\", \"r\").read().strip().split('\\n')\n"
   ]
  },
  {
   "cell_type": "code",
   "execution_count": 14,
   "metadata": {},
   "outputs": [],
   "source": [
    "#pp = str(politicalparties) - can add this straight into the cleaning pipeline "
   ]
  },
  {
   "cell_type": "code",
   "execution_count": 21,
   "metadata": {},
   "outputs": [],
   "source": [
    "cleaned_politicalparties = nlp_simple_pipeline(politicalparties)"
   ]
  },
  {
   "cell_type": "code",
   "execution_count": 22,
   "metadata": {},
   "outputs": [
    {
     "name": "stdout",
     "output_type": "stream",
     "text": [
      "\"word 'manov' not in vocabulary\" manov\n",
      "\"word 'hadjistoychev' not in vocabulary\" hadjistoychev\n",
      "\"word 'nenovski' not in vocabulary\" nenovski\n",
      "\"word 'chipev' not in vocabulary\" chipev\n",
      "\"word 'kornezov' not in vocabulary\" kornezov\n",
      "\"word 'pencho' not in vocabulary\" pencho\n",
      "\"word 'arabadjiev' not in vocabulary\" arabadjiev\n",
      "\"word 'zks' not in vocabulary\" zks\n",
      "\"word 'podks' not in vocabulary\" podks\n",
      "\"word 'zks' not in vocabulary\" zks\n",
      "\"word 'zks' not in vocabulary\" zks\n",
      "\"word 'zinposk' not in vocabulary\" zinposk\n",
      "\"word 'podks' not in vocabulary\" podks\n",
      "\"word 'zinposk' not in vocabulary\" zinposk\n",
      "\"word 'elico' not in vocabulary\" elico\n"
     ]
    },
    {
     "data": {
      "text/plain": [
       "array([[-0.05963646,  0.07555592, -0.26189992,  0.02443251,  0.24358592,\n",
       "         0.23766842,  0.04411118, -0.1823    , -0.0370389 , -0.09321212,\n",
       "         0.06896044, -0.10994865, -0.05339678, -0.04009624,  0.12137559,\n",
       "         0.04138564,  0.03972388, -0.30445184,  0.24392719, -0.14349354,\n",
       "         0.09929708, -0.0056753 , -0.02012062, -0.02708822, -0.06955654,\n",
       "        -1.14164018, -0.24864049, -0.32142994, -0.04126756,  0.19839959,\n",
       "         2.50127475, -0.06098029, -0.61746289, -0.58962909, -0.1814652 ,\n",
       "        -0.153964  ,  0.11875747, -0.08844476, -0.33940533,  0.06734334,\n",
       "        -0.1609698 , -0.16733732,  0.10245137,  0.25683143, -0.40078244,\n",
       "         0.09947696, -0.32919419,  0.3308041 ,  0.05733062, -0.15416452]])"
      ]
     },
     "execution_count": 22,
     "metadata": {},
     "output_type": "execute_result"
    }
   ],
   "source": [
    "article_embedding(cleaned_politicalparties) #this is the average word embedding array for the political parties decision "
   ]
  },
  {
   "cell_type": "code",
   "execution_count": 23,
   "metadata": {},
   "outputs": [
    {
     "name": "stdout",
     "output_type": "stream",
     "text": [
      "\"word 'manov' not in vocabulary\" manov\n",
      "\"word 'hadjistoychev' not in vocabulary\" hadjistoychev\n",
      "\"word 'nenovski' not in vocabulary\" nenovski\n",
      "\"word 'chipev' not in vocabulary\" chipev\n",
      "\"word 'kornezov' not in vocabulary\" kornezov\n",
      "\"word 'pencho' not in vocabulary\" pencho\n",
      "\"word 'arabadjiev' not in vocabulary\" arabadjiev\n",
      "\"word 'zks' not in vocabulary\" zks\n",
      "\"word 'podks' not in vocabulary\" podks\n",
      "\"word 'zks' not in vocabulary\" zks\n",
      "\"word 'zks' not in vocabulary\" zks\n",
      "\"word 'zinposk' not in vocabulary\" zinposk\n",
      "\"word 'podks' not in vocabulary\" podks\n",
      "\"word 'zinposk' not in vocabulary\" zinposk\n",
      "\"word 'elico' not in vocabulary\" elico\n"
     ]
    }
   ],
   "source": [
    "avg_pp = article_embedding(cleaned_politicalparties)"
   ]
  },
  {
   "cell_type": "code",
   "execution_count": 25,
   "metadata": {},
   "outputs": [
    {
     "name": "stdout",
     "output_type": "stream",
     "text": [
      "\"word 'manov' not in vocabulary\" manov\n",
      "\"word 'nenovski' not in vocabulary\" nenovski\n",
      "\"word 'chipev' not in vocabulary\" chipev\n",
      "\"word 'zhabinska' not in vocabulary\" zhabinska\n",
      "\"word 'kornezov' not in vocabulary\" kornezov\n",
      "\"word 'pencho' not in vocabulary\" pencho\n",
      "\"word 'zvo' not in vocabulary\" zvo\n",
      "\"word 'zvo' not in vocabulary\" zvo\n",
      "\"word 'zvo' not in vocabulary\" zvo\n"
     ]
    }
   ],
   "source": [
    "#varna free university case D17.Nov24.1992.MAJ \n",
    "varnafreeuniversity = codecs.open(\"/Users/schap/Desktop/TA_Data/AC/1992/TXT_Files/D17.Nov24.1992.MAJ.txt\", \"r\").read().strip().split('\\n')\n",
    "cleaned_vfu = nlp_simple_pipeline(varnafreeuniversity)\n",
    "avg_vfu = article_embedding(cleaned_vfu)"
   ]
  },
  {
   "cell_type": "code",
   "execution_count": 28,
   "metadata": {},
   "outputs": [
    {
     "name": "stdout",
     "output_type": "stream",
     "text": [
      "\"word 'manov' not in vocabulary\" manov\n",
      "\"word 'hadjistoychev' not in vocabulary\" hadjistoychev\n",
      "\"word 'nenovski' not in vocabulary\" nenovski\n",
      "\"word 'chipev' not in vocabulary\" chipev\n",
      "\"word 'zhabinska' not in vocabulary\" zhabinska\n",
      "\"word 'kornezov' not in vocabulary\" kornezov\n",
      "\"word 'pencho' not in vocabulary\" pencho\n",
      "\"word 'arabadjiev' not in vocabulary\" arabadjiev\n"
     ]
    }
   ],
   "source": [
    "#D5.April6.1993.MAJ, civil service case \n",
    "civilservice =  codecs.open(\"/Users/schap/Desktop/TA_Data/AC/1993/TXT_Files/D5.Apr6.1993.MAJ.txt\", \"r\").read().strip().split('\\n')\n",
    "cleaned_cs = nlp_simple_pipeline(civilservice)\n",
    "avg_cs = article_embedding(cleaned_cs)"
   ]
  },
  {
   "cell_type": "code",
   "execution_count": 27,
   "metadata": {},
   "outputs": [],
   "source": [
    "from sklearn.metrics.pairwise import cosine_similarity"
   ]
  },
  {
   "cell_type": "markdown",
   "metadata": {},
   "source": [
    "# Cosine Similarity Between the 'Political' Cases used to make dictionaries"
   ]
  },
  {
   "cell_type": "code",
   "execution_count": 30,
   "metadata": {},
   "outputs": [
    {
     "name": "stdout",
     "output_type": "stream",
     "text": [
      "compare political parties case and varna free university case [[0.97956879]]\n",
      "compare political parties case and civil service case [[0.98109455]]\n",
      "compare political parties case and political parties case [[1.]]\n"
     ]
    }
   ],
   "source": [
    "print(\"compare political parties case and varna free university case\",cosine_similarity(avg_pp, avg_vfu))\n",
    "print(\"compare political parties case and civil service case\",cosine_similarity(avg_pp, avg_cs))\n",
    "print(\"compare political parties case and political parties case\", cosine_similarity(avg_pp, avg_pp)) #for control"
   ]
  },
  {
   "cell_type": "markdown",
   "metadata": {},
   "source": [
    "## code to get avg embedding for appropriations cases"
   ]
  },
  {
   "cell_type": "code",
   "execution_count": null,
   "metadata": {},
   "outputs": [],
   "source": [
    "#this is a state budget case D11.July17.1995.MAJ.txt "
   ]
  },
  {
   "cell_type": "code",
   "execution_count": 31,
   "metadata": {},
   "outputs": [
    {
     "name": "stdout",
     "output_type": "stream",
     "text": [
      "\"word 'manov' not in vocabulary\" manov\n",
      "\"word 'hadzhistoychev' not in vocabulary\" hadzhistoychev\n",
      "\"word 'pencho' not in vocabulary\" pencho\n",
      "\"word 'arabadjiev' not in vocabulary\" arabadjiev\n",
      "\"word 'pzrzdbrb' not in vocabulary\" pzrzdbrb\n",
      "\"word 'lsidb' not in vocabulary\" lsidb\n",
      "\"word 'pzrzdbrb' not in vocabulary\" pzrzdbrb\n",
      "\"word 'pzrzdbrb' not in vocabulary\" pzrzdbrb\n",
      "\"word 'pzrzdbrb' not in vocabulary\" pzrzdbrb\n"
     ]
    }
   ],
   "source": [
    "statebudget =  codecs.open(\"/Users/schap/Desktop/TA_Data/AC/1995/TXT_Files/D11.July17.1995.MAJ.txt\", \"r\").read().strip().split('\\n')\n",
    "cleaned_sb = nlp_simple_pipeline(statebudget)\n",
    "avg_sb = article_embedding(cleaned_sb)"
   ]
  },
  {
   "cell_type": "markdown",
   "metadata": {},
   "source": [
    "# Cosine Similarity between Political Cases and Appropriations"
   ]
  },
  {
   "cell_type": "code",
   "execution_count": 32,
   "metadata": {},
   "outputs": [
    {
     "name": "stdout",
     "output_type": "stream",
     "text": [
      "compare state budget case and varna free university case [[0.96692886]]\n",
      "compare state budget case and civil service case [[0.97694753]]\n",
      "compare state budget case and political parties case [[0.95378009]]\n"
     ]
    }
   ],
   "source": [
    "print(\"compare state budget case and varna free university case\",cosine_similarity(avg_sb, avg_vfu))\n",
    "print(\"compare state budget case and civil service case\",cosine_similarity(avg_sb, avg_cs))\n",
    "print(\"compare state budget case and political parties case\", cosine_similarity(avg_sb, avg_pp))"
   ]
  },
  {
   "cell_type": "markdown",
   "metadata": {},
   "source": [
    "## Code to get avg embedding for random case"
   ]
  },
  {
   "cell_type": "markdown",
   "metadata": {},
   "source": [
    "this is a random case I chose D4.Feb27.1996.MAJ.txt, this is the summary on the spreadsheet: unconstitutionality of the provisions of Article 90 of the Succession Act in so far as it is provided that testament , drawn up after inclusion in the labor co farms or other entities based on these agricultural organizations of cooperative property , the ownership of which is recovered in Art 0.10 , paragraph 1 OUFLA no effect on these properties"
   ]
  },
  {
   "cell_type": "code",
   "execution_count": 33,
   "metadata": {},
   "outputs": [
    {
     "name": "stdout",
     "output_type": "stream",
     "text": [
      "\"word 'manov' not in vocabulary\" manov\n",
      "\"word 'gochev' not in vocabulary\" gochev\n",
      "\"word 'pencho' not in vocabulary\" pencho\n",
      "\"word 'arabadjiev' not in vocabulary\" arabadjiev\n",
      "\"word 'zspzz' not in vocabulary\" zspzz\n"
     ]
    }
   ],
   "source": [
    "randomcase =  codecs.open(\"/Users/schap/Desktop/TA_Data/AC/1996/TXT_Files/D4.Feb27.1996.MAJ.txt\", \"r\").read().strip().split('\\n')\n",
    "cleaned_rc = nlp_simple_pipeline(randomcase)\n",
    "avg_rc = article_embedding(cleaned_rc)"
   ]
  },
  {
   "cell_type": "markdown",
   "metadata": {},
   "source": [
    "# Cosine Similarity between Political Cases and Random Case"
   ]
  },
  {
   "cell_type": "code",
   "execution_count": 34,
   "metadata": {},
   "outputs": [
    {
     "name": "stdout",
     "output_type": "stream",
     "text": [
      "compare random case and varna free university case [[0.96036799]]\n",
      "compare random case and civil service case [[0.97574694]]\n",
      "compare random case and political parties case [[0.96696996]]\n"
     ]
    }
   ],
   "source": [
    "print(\"compare random case and varna free university case\",cosine_similarity(avg_rc, avg_vfu))\n",
    "print(\"compare random case and civil service case\",cosine_similarity(avg_rc, avg_cs))\n",
    "print(\"compare random case and political parties case\", cosine_similarity(avg_rc, avg_pp))"
   ]
  },
  {
   "cell_type": "markdown",
   "metadata": {},
   "source": [
    "# Similarities using the dictionaries we created"
   ]
  },
  {
   "cell_type": "code",
   "execution_count": 36,
   "metadata": {},
   "outputs": [],
   "source": [
    "dict_legal = \"admissible admission allegation argument authorized compatible condition convention dispute eligible establish establishment exact facts hypothesis inadmissible incompatible ineligible jurisdiction literal mandatory norm obligation opinion precise prerequisite regulation request requirement right rules text threshold unauthorized consistent registered status prohibit purpose violation facts protective norm function interpretation illegal rejected ruling legal sense competence sanction inviolable meaning guarantee protection proof definition factual authority strict regulation regulating instructions law contradiction obligation objective formal procedure compliance principle legislation application objectively justified violation merit argument right binding rules jurisdiction must not be ruled that restrictions dismissed amendment inadmissible mandatory incompatible procedure pursuant adopted procedural appeals interpretation obligation\""
   ]
  },
  {
   "cell_type": "code",
   "execution_count": 37,
   "metadata": {},
   "outputs": [],
   "source": [
    "dict_political = \"democracy democratization legislature minority movement organization party policy public public opinion rallies security sympathizer platform opposition totalitarian political party ethnic religious social political will exposing exposure objectified political activity ban minority Turkish gross exhaustive separate powers separation of powers nature intimate atheist community nature believers tolerance respect natural absolutely policy vote of no confidence suffrage legislative exercised legitimate interests fundamental equal footing candidate citizenship agricultural property land owner community borders equivalent quality\""
   ]
  },
  {
   "cell_type": "code",
   "execution_count": 38,
   "metadata": {},
   "outputs": [],
   "source": [
    "dict_fuzzy = \"community comparison conscience cultural depend discretion ethnic history/historical ideas identity inherent integrity intent interest language natural pluralism power racial religious respect scope tolerance unity values virtues clear not clear literally contradiction substantiate decisively incidentally conformity implications satisfied occupy participation disputes right remedies composition constitutional illegitimate legitimate\""
   ]
  },
  {
   "cell_type": "code",
   "execution_count": 39,
   "metadata": {},
   "outputs": [],
   "source": [
    "#legal dictionary\n",
    "cleaned_legal = nlp_simple_pipeline(dict_legal)\n",
    "avg_legal = article_embedding(cleaned_legal)"
   ]
  },
  {
   "cell_type": "code",
   "execution_count": 40,
   "metadata": {},
   "outputs": [
    {
     "data": {
      "text/plain": [
       "array([[-7.18270078e-02, -1.59617881e-01, -3.87207810e-01,\n",
       "        -8.38264640e-02,  2.67771079e-01,  3.72125742e-01,\n",
       "         4.68732094e-01, -1.21758422e-01,  2.43442166e-01,\n",
       "         5.42849959e-02,  1.30196357e-01,  1.57843697e-01,\n",
       "         3.09000453e-03, -8.46117273e-02,  2.32085111e-01,\n",
       "         2.88365481e-01,  1.38392290e-02, -4.96056304e-01,\n",
       "         4.82142974e-01, -3.10120738e-01,  6.94239140e-02,\n",
       "        -1.68876672e-02, -1.26274518e-01, -1.31065437e-01,\n",
       "        -5.27677001e-02, -1.19293228e+00, -9.86811579e-02,\n",
       "        -1.08205766e-01,  2.27524076e-01,  4.19432095e-02,\n",
       "         2.03335182e+00, -2.63194123e-01, -6.69654690e-01,\n",
       "        -6.94595648e-01, -1.93440123e-02, -2.70860049e-01,\n",
       "         5.27555544e-01, -7.17995994e-02, -4.86071373e-01,\n",
       "        -7.44549444e-04, -3.58952114e-02, -3.16724213e-01,\n",
       "         3.63990511e-01,  7.88958024e-01, -6.57577826e-01,\n",
       "        -1.19113397e-01, -1.45032260e-01,  7.48863609e-01,\n",
       "         1.42269417e-01,  8.30818682e-02]])"
      ]
     },
     "execution_count": 40,
     "metadata": {},
     "output_type": "execute_result"
    }
   ],
   "source": [
    "avg_legal"
   ]
  },
  {
   "cell_type": "code",
   "execution_count": 41,
   "metadata": {},
   "outputs": [
    {
     "data": {
      "text/plain": [
       "array([[-0.11953709,  0.05420678, -0.20785398, -0.08743941,  0.34572915,\n",
       "         0.29418261,  0.12296292, -0.21835211, -0.04204533,  0.03117485,\n",
       "        -0.00417937, -0.24578369,  0.02608949, -0.00427193, -0.11021629,\n",
       "         0.03053114,  0.3046259 , -0.18534122,  0.43205037, -0.08084323,\n",
       "         0.03328799,  0.13401031, -0.12612778, -0.07623116,  0.03844325,\n",
       "        -1.23075059, -0.18657265, -0.3294547 ,  0.0568722 ,  0.42667425,\n",
       "         2.49945921,  0.11909346, -0.53147731, -0.73542971, -0.56057767,\n",
       "        -0.20849211, -0.27176004, -0.13735005, -0.37569105,  0.00844488,\n",
       "        -0.30971925, -0.17473492, -0.00278664,  0.38098955, -0.27360044,\n",
       "        -0.0825947 , -0.57514505,  0.2684467 ,  0.08336806, -0.14295076]])"
      ]
     },
     "execution_count": 41,
     "metadata": {},
     "output_type": "execute_result"
    }
   ],
   "source": [
    "#Political dictionary\n",
    "cleaned_political = nlp_simple_pipeline(dict_political)\n",
    "avg_political = article_embedding(cleaned_political); avg_political"
   ]
  },
  {
   "cell_type": "code",
   "execution_count": 43,
   "metadata": {},
   "outputs": [
    {
     "data": {
      "text/plain": [
       "array([[-0.04680708,  0.14605288, -0.41813928, -0.15217866,  0.46915206,\n",
       "         0.39624344,  0.42039832, -0.22453315, -0.05185192,  0.26039405,\n",
       "         0.09915356,  0.06710168, -0.05541659, -0.32365808, -0.08253275,\n",
       "         0.18629274,  0.28473247, -0.28826787,  0.54283849, -0.28615345,\n",
       "        -0.12416853,  0.21966254, -0.11503318, -0.12926249,  0.29291361,\n",
       "        -1.01207412, -0.44934043, -0.16432563,  0.37128305,  0.18994216,\n",
       "         2.15768953,  0.18877491, -0.45327694, -0.84345636, -0.3301979 ,\n",
       "        -0.20082849, -0.26797045, -0.17359209, -0.40662254,  0.09974241,\n",
       "        -0.10734608, -0.28242046,  0.09693564,  0.50589189, -0.3994845 ,\n",
       "         0.10272779, -0.22806295,  0.52636658,  0.04563072, -0.27062884]])"
      ]
     },
     "execution_count": 43,
     "metadata": {},
     "output_type": "execute_result"
    }
   ],
   "source": [
    "#Fuzzy dictionary \n",
    "cleaned_fuzzy = nlp_simple_pipeline(dict_fuzzy)\n",
    "avg_fuzzy = article_embedding(cleaned_fuzzy); avg_fuzzy"
   ]
  },
  {
   "cell_type": "markdown",
   "metadata": {},
   "source": [
    "# Cosine Similarities Between Dictionaries"
   ]
  },
  {
   "cell_type": "code",
   "execution_count": 44,
   "metadata": {},
   "outputs": [
    {
     "name": "stdout",
     "output_type": "stream",
     "text": [
      "compare legal and political dictionaries [[0.83745793]]\n",
      "compare legal and fuzzy dictionaries [[0.87948744]]\n",
      "compare political and fuzzy dictionaries [[0.93160387]]\n"
     ]
    }
   ],
   "source": [
    "print(\"compare legal and political dictionaries\",cosine_similarity(avg_legal, avg_political))\n",
    "print(\"compare legal and fuzzy dictionaries\",cosine_similarity(avg_legal, avg_fuzzy))\n",
    "print(\"compare political and fuzzy dictionaries\", cosine_similarity(avg_political, avg_fuzzy))"
   ]
  },
  {
   "cell_type": "markdown",
   "metadata": {},
   "source": [
    "## Salient case versus all three dictionaries"
   ]
  },
  {
   "cell_type": "markdown",
   "metadata": {},
   "source": [
    "### Political Parties"
   ]
  },
  {
   "cell_type": "code",
   "execution_count": 45,
   "metadata": {},
   "outputs": [
    {
     "name": "stdout",
     "output_type": "stream",
     "text": [
      "compare political parties case and legal dictionary [[0.89598984]]\n",
      "compare political parties case and political dictionary [[0.95790732]]\n",
      "compare political parties case and fuzzy dictionary [[0.90704803]]\n"
     ]
    }
   ],
   "source": [
    "print(\"compare political parties case and legal dictionary\",cosine_similarity(avg_pp, avg_legal))\n",
    "print(\"compare political parties case and political dictionary\",cosine_similarity(avg_pp, avg_political))\n",
    "print(\"compare political parties case and fuzzy dictionary\",cosine_similarity(avg_pp, avg_fuzzy))"
   ]
  },
  {
   "cell_type": "markdown",
   "metadata": {},
   "source": [
    "### Varna Free University"
   ]
  },
  {
   "cell_type": "code",
   "execution_count": 46,
   "metadata": {},
   "outputs": [
    {
     "name": "stdout",
     "output_type": "stream",
     "text": [
      "compare varna free university case and legal dictionary [[0.88282023]]\n",
      "compare varna free university case and political dictionary [[0.91311632]]\n",
      "compare varna free university case and fuzzy dictionary [[0.84531423]]\n"
     ]
    }
   ],
   "source": [
    "print(\"compare varna free university case and legal dictionary\",cosine_similarity(avg_vfu, avg_legal))\n",
    "print(\"compare varna free university case and political dictionary\",cosine_similarity(avg_vfu, avg_political))\n",
    "print(\"compare varna free university case and fuzzy dictionary\",cosine_similarity(avg_vfu, avg_fuzzy))"
   ]
  },
  {
   "cell_type": "markdown",
   "metadata": {},
   "source": [
    "### Civil Service"
   ]
  },
  {
   "cell_type": "code",
   "execution_count": 47,
   "metadata": {},
   "outputs": [
    {
     "name": "stdout",
     "output_type": "stream",
     "text": [
      "compare civil service case and legal dictionary [[0.88452053]]\n",
      "compare civil service case and political dictionary [[0.92541129]]\n",
      "compare civil service case and fuzzy dictionary [[0.86632882]]\n"
     ]
    }
   ],
   "source": [
    "print(\"compare civil service case and legal dictionary\",cosine_similarity(avg_cs, avg_legal))\n",
    "print(\"compare civil service case and political dictionary\",cosine_similarity(avg_cs, avg_political))\n",
    "print(\"compare civil service case and fuzzy dictionary\",cosine_similarity(avg_cs, avg_fuzzy))"
   ]
  },
  {
   "cell_type": "markdown",
   "metadata": {},
   "source": [
    "## Appropriations case versus all three dictionaries"
   ]
  },
  {
   "cell_type": "code",
   "execution_count": 48,
   "metadata": {},
   "outputs": [
    {
     "name": "stdout",
     "output_type": "stream",
     "text": [
      "compare state budget case and legal dictionary [[0.85494213]]\n",
      "compare state budget case and political dictionary [[0.89596775]]\n",
      "compare state budget case and fuzzy dictionary [[0.81325074]]\n"
     ]
    }
   ],
   "source": [
    "print(\"compare state budget case and legal dictionary\",cosine_similarity(avg_sb, avg_legal))\n",
    "print(\"compare state budget case and political dictionary\",cosine_similarity(avg_sb, avg_political))\n",
    "print(\"compare state budget case and fuzzy dictionary\",cosine_similarity(avg_sb, avg_fuzzy))"
   ]
  },
  {
   "cell_type": "markdown",
   "metadata": {},
   "source": [
    "## Random case versus all three dictionaries"
   ]
  },
  {
   "cell_type": "code",
   "execution_count": 49,
   "metadata": {},
   "outputs": [
    {
     "name": "stdout",
     "output_type": "stream",
     "text": [
      "compare random case and legal dictionary [[0.89420073]]\n",
      "compare random case and political dictionary [[0.91060002]]\n",
      "compare random case and fuzzy dictionary [[0.8681557]]\n"
     ]
    }
   ],
   "source": [
    "print(\"compare random case and legal dictionary\",cosine_similarity(avg_rc, avg_legal))\n",
    "print(\"compare random case and political dictionary\",cosine_similarity(avg_rc, avg_political))\n",
    "print(\"compare random case and fuzzy dictionary\",cosine_similarity(avg_rc, avg_fuzzy))"
   ]
  }
 ],
 "metadata": {
  "kernelspec": {
   "display_name": "Python 3",
   "language": "python",
   "name": "python3"
  },
  "language_info": {
   "codemirror_mode": {
    "name": "ipython",
    "version": 3
   },
   "file_extension": ".py",
   "mimetype": "text/x-python",
   "name": "python",
   "nbconvert_exporter": "python",
   "pygments_lexer": "ipython3",
   "version": "3.7.6"
  }
 },
 "nbformat": 4,
 "nbformat_minor": 4
}
