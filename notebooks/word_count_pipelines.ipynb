{
 "cells": [
  {
   "cell_type": "code",
   "execution_count": null,
   "metadata": {},
   "outputs": [],
   "source": [
    "from glob import glob \n",
    "import pandas as pd \n",
    "import codecs\n",
    "from collections import Counter\n",
    "import re\n",
    "import string"
   ]
  },
  {
   "cell_type": "code",
   "execution_count": null,
   "metadata": {},
   "outputs": [],
   "source": [
    "import nltk\n",
    "nltk.download('punkt')"
   ]
  },
  {
   "cell_type": "code",
   "execution_count": null,
   "metadata": {},
   "outputs": [],
   "source": [
    "from nltk.corpus import stopwords\n",
    "stop_words = stopwords.words('english')\n",
    "exclude = set(string.punctuation)\n",
    "exclude.add(\"‘\")\n",
    "exclude.add(\"“\")"
   ]
  },
  {
   "cell_type": "code",
   "execution_count": null,
   "metadata": {},
   "outputs": [],
   "source": [
    "from nltk import word_tokenize\n",
    "from nltk.corpus import brown\n",
    "from nltk.corpus import wordnet as wn"
   ]
  },
  {
   "cell_type": "code",
   "execution_count": null,
   "metadata": {},
   "outputs": [],
   "source": [
    "from nltk.stem import SnowballStemmer\n",
    "snowball_stemmer = SnowballStemmer(\"english\")\n",
    "from nltk.stem import PorterStemmer\n",
    "from nltk.stem.wordnet import WordNetLemmatizer\n",
    "wordnet_lemmatizer = WordNetLemmatizer()"
   ]
  },
  {
   "cell_type": "markdown",
   "metadata": {},
   "source": [
    "There are different ways to clean the text. Perhaps we should consider the method we want to use: naive, tokenizer, lemmatization, or stemming? Below I have used a single case to demonstrate naive, tokenizer, lemmatizer (couldn't figure out stemmer, but will do this upcoming week. "
   ]
  },
  {
   "cell_type": "code",
   "execution_count": null,
   "metadata": {},
   "outputs": [],
   "source": [
    "#naive pipeline \n",
    "def clean1(x):\n",
    "    x=x.replace('\\n\\n','') # remove the line breaks\n",
    "    x=x.lower()# lower text\n",
    "    x = ''.join(ch for ch in x if ch not in exclude) #remove punctuation\n",
    "    x=re.sub('[0-9]+', '', x) # remove numbers\n",
    "    x=x.split() #split words \n",
    "    x=[word for word in x if word not in stopwords.words('english')]#remove stopwords\n",
    "   #x=\" \".join(str(x) for x in x) # you can do this if you want to remove list structure\n",
    "    return x"
   ]
  },
  {
   "cell_type": "code",
   "execution_count": null,
   "metadata": {},
   "outputs": [],
   "source": [
    "#tokenizer \n",
    "def nlp_pipeline1(text):\n",
    "    \n",
    "    text=text.lower()\n",
    "    \n",
    "    #tokenize words for each sentence\n",
    "    text = nltk.word_tokenize(text)\n",
    "    \n",
    "    text = ''.join(ch for ch in text if ch not in exclude) #remove punctuation\n",
    "    text=re.sub('[0-9]+', '', text) \n",
    "    text=text.split(\"'\") #split words \n",
    "    \n",
    "    # remove punctuation and numbers\n",
    "    #text = [token for token in text if token.isalpha()] #for some reason, this step was removing almost all of the words so replaced it with the above two lines\n",
    "    \n",
    "    # remove stopwords - be careful with this step    \n",
    "    text = [token for token in text if token not in stop_words]\n",
    "\n",
    "    return text"
   ]
  },
  {
   "cell_type": "code",
   "execution_count": null,
   "metadata": {},
   "outputs": [],
   "source": [
    "#lemmatization \n",
    "def nlp_lem(text):\n",
    "    #tokenize words for each sentence\n",
    "    text = nltk.word_tokenize(text)\n",
    "    # pos tagger\n",
    "    text = nltk.pos_tag(text)\n",
    "    # lemmatizer\n",
    "    text = [wordnet_lemmatizer.lemmatize(token.lower(),\"v\")if \"V\" in pos else wordnet_lemmatizer.lemmatize(token.lower()) for token,pos in text]\n",
    "    # remove punctuation and numbers\n",
    "    text = ''.join(ch for ch in text if ch not in exclude) #remove punctuation\n",
    "    text=re.sub('[0-9]+', '', text) \n",
    "    text=text.split(\"'\") #split words \n",
    "    # remove stopwords - be careful with this step    \n",
    "    text = [token for token in text if token not in stop_word_list]\n",
    "    return text"
   ]
  },
  {
   "cell_type": "code",
   "execution_count": null,
   "metadata": {},
   "outputs": [],
   "source": [
    "#stemming\n",
    "#stem_list1 = [snowball_stemmer.stem(word) for word in list1]\n",
    "#def nlp_stem(text):\n",
    "    #tokenize words for each sentence\n",
    "    #text = nltk.word_tokenize(text)\n",
    "    # pos tagger\n",
    "    #text = nltk.pos_tag(text)\n",
    "    # stemmer \n",
    "    #text = [snowball_stemmer.stem(word) for word in text]\n",
    "    # remove punctuation and numbers\n",
    "    #text = ''.join(ch for ch in text if ch not in exclude) #remove punctuation\n",
    "    #text=re.sub('[0-9]+', '', text) \n",
    "    #text=text.split(\"'\") #split words \n",
    "    # remove stopwords - be careful with this step    \n",
    "    #text = [token for token in text if token not in stop_word_list]\n",
    "    #return text"
   ]
  },
  {
   "cell_type": "code",
   "execution_count": null,
   "metadata": {},
   "outputs": [],
   "source": [
    "#random case, D4.Feb23.2001.MAJ\n",
    "d4feb232001maj = codecs.open(\"/Users/schap/Desktop/TA Data/AC/2002/1/TXT/D1.Mar26.2002.MAJ.txt\", \"r\", \"utf-8\").read().strip().split()\n",
    "d4feb232001maj = str(d4feb232001maj)\n",
    "#cleaning using naive pipeline \n",
    "maj = clean1(d4feb232001maj)\n",
    "print (Counter(maj).most_common())"
   ]
  },
  {
   "cell_type": "code",
   "execution_count": null,
   "metadata": {},
   "outputs": [],
   "source": [
    "token_d4feb232001maj = codecs.open(\"/Users/schap/Desktop/TA Data/AC/2002/1/TXT/D1.Mar26.2002.MAJ.txt\", \"r\", \"utf-8\").read().strip().split()\n",
    "token_d4feb232001maj = str(token_d4feb232001maj)\n",
    "#cleaning using tokenizer pipeline \n",
    "token_maj = nlp_pipeline1(token_d4feb232001maj)\n",
    "print (Counter(token_maj).most_common())"
   ]
  },
  {
   "cell_type": "code",
   "execution_count": null,
   "metadata": {},
   "outputs": [],
   "source": [
    "lem_d4feb232001maj = codecs.open(\"/Users/schap/Desktop/TA Data/AC/2002/1/TXT/D1.Mar26.2002.MAJ.txt\", \"r\", \"utf-8\").read().strip().split()\n",
    "lem_d4feb232001maj = str(lem_d4feb232001maj)\n",
    "#cleaning using lemmaztizer pipeline \n",
    "lem_maj = nlp_lem(lem_d4feb232001maj)\n",
    "print (Counter(lem_maj).most_common())"
   ]
  },
  {
   "cell_type": "markdown",
   "metadata": {},
   "source": [
    "# Word Count Using all 2002 documents"
   ]
  },
  {
   "cell_type": "markdown",
   "metadata": {},
   "source": [
    "This is just using naive pipeline"
   ]
  },
  {
   "cell_type": "code",
   "execution_count": null,
   "metadata": {},
   "outputs": [],
   "source": [
    "#using all decisions\n",
    "all2002 = codecs.open(\"/Users/schap/Desktop/TA Data/All Text Files Combined/ALL/all2002text.txt\", \"r\", \"utf-8\").read().strip().split()\n",
    "all2002 = str(all2002)\n",
    "a2002 = clean1(all2002)\n",
    "print (Counter(a2002).most_common())"
   ]
  },
  {
   "cell_type": "code",
   "execution_count": null,
   "metadata": {},
   "outputs": [],
   "source": [
    "#using only AC \n",
    "all2002ac = codecs.open(\"/Users/schap/Desktop/TA Data/All Text Files Combined/AC/all2002AC.txt\", \"r\", \"utf-8\").read().strip().split()\n",
    "all2002ac = str(all2002ac)\n",
    "a2002ac = clean1(all2002ac)\n",
    "print (Counter(a2002ac).most_common())"
   ]
  },
  {
   "cell_type": "code",
   "execution_count": null,
   "metadata": {},
   "outputs": [],
   "source": [
    "#using only dissent \n",
    "all2002diss = codecs.open(\"/Users/schap/Desktop/TA Data/All Text Files Combined/Dissent/all2002dissent.txt\", \"r\", \"utf-8\").read().strip().split()\n",
    "all2002diss = str(all2002diss)\n",
    "a2002d = clean1(all2002diss)\n",
    "print (Counter(a2002d).most_common())"
   ]
  },
  {
   "cell_type": "code",
   "execution_count": null,
   "metadata": {},
   "outputs": [],
   "source": [
    "#using only majority\n",
    "all2002maj = codecs.open(\"/Users/schap/Desktop/TA Data/All Text Files Combined/Majority/all2002majority.txt\", \"r\", \"utf-8\").read().strip().split()\n",
    "all2002maj = str(all2002maj)\n",
    "a2002m = clean1(all2002maj)\n",
    "print (Counter(a2002m).most_common())"
   ]
  }
 ],
 "metadata": {
  "kernelspec": {
   "display_name": "Python 3.10.5 ('.venv': pipenv)",
   "language": "python",
   "name": "python3"
  },
  "language_info": {
   "codemirror_mode": {
    "name": "ipython",
    "version": 3
   },
   "file_extension": ".py",
   "mimetype": "text/x-python",
   "name": "python",
   "nbconvert_exporter": "python",
   "pygments_lexer": "ipython3",
   "version": "3.10.5"
  },
  "vscode": {
   "interpreter": {
    "hash": "8c9116f2cd77a079032267363c53ebdafd293cc94f32041a6b1e820dcb017091"
   }
  }
 },
 "nbformat": 4,
 "nbformat_minor": 4
}
