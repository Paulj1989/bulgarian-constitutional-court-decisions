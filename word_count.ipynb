{
 "cells": [
  {
   "cell_type": "code",
   "execution_count": 1,
   "metadata": {
    "tags": []
   },
   "outputs": [
    {
     "output_type": "stream",
     "name": "stderr",
     "text": "[nltk_data] Downloading package punkt to /home/paulj1989/nltk_data...\n[nltk_data]   Package punkt is already up-to-date!\n"
    },
    {
     "output_type": "execute_result",
     "data": {
      "text/plain": "True"
     },
     "metadata": {},
     "execution_count": 1
    }
   ],
   "source": [
    "import re\n",
    "import nltk\n",
    "from nltk import tokenize\n",
    "from collections import Counter\n",
    "from nltk.corpus import stopwords\n",
    "from string import punctuation\n",
    "from itertools import chain\n",
    "nltk.download('punkt')"
   ]
  },
  {
   "cell_type": "code",
   "execution_count": 2,
   "metadata": {
    "tags": []
   },
   "outputs": [],
   "source": [
    "courtfile = open(\"/home/paulj1989/Repositories/Github/bulgarian-constitutional-court-decisions/data/all_txt_data.txt\")\n",
    "courttext = courtfile.read()\n",
    "courtfile.close()"
   ]
  },
  {
   "cell_type": "code",
   "execution_count": 3,
   "metadata": {},
   "outputs": [],
   "source": [
    "stop_words = stopwords.words('english')\n",
    "\n",
    "def clean(x):\n",
    "    x = x.lower()\n",
    "    x = re.sub('[.!?/+{}\\\\\\\\,<©]+', ' ', x)\n",
    "    x = re.sub(r'[0-9]+', \" \", x)\n",
    "    x = x.split()\n",
    "    x = [word for word in x if word not in stopwords.words('english')]\n",
    "    return x"
   ]
  },
  {
   "cell_type": "code",
   "execution_count": 4,
   "metadata": {
    "tags": []
   },
   "outputs": [],
   "source": [
    "court_words = clean(courttext)"
   ]
  },
  {
   "cell_type": "code",
   "execution_count": 5,
   "metadata": {
    "tags": []
   },
   "outputs": [
    {
     "output_type": "execute_result",
     "data": {
      "text/plain": "        'could': 73,\n         'take': 74,\n         'repressive': 8,\n         'measures': 49,\n         'arrest': 2,\n         'formation': 35,\n         'preliminary': 28,\n         'detention': 14,\n         'everyone': 33,\n         'candidate': 93,\n         'mp': 38,\n         'thus': 60,\n         'de': 6,\n         'easo': 1,\n         'predetermine': 2,\n         'failure': 10,\n         'candidacy': 4,\n         'context': 19,\n         \"general's\": 7,\n         'configured': 2,\n         'two': 146,\n         'fundamental': 129,\n         'principles': 158,\n         'rule': 209,\n         'division': 47,\n         'authorities': 126,\n         'respect': 70,\n         'task': 8,\n         'present': 59,\n         'find': 45,\n         'optimal': 3,\n         'point': 91,\n         'public': 504,\n         'interest': 119,\n         'balance': 67,\n         'outlined': 6,\n         'competition': 21,\n         'basic': 159,\n         'starting': 4,\n         'position': 105,\n         'search': 5,\n         '“bulgaria': 2,\n         'parliamentary': 63,\n         'government': 95,\n         '”the': 11,\n         'constitutionally': 117,\n         'established': 258,\n         'supremacy': 8,\n         'parliament': 130,\n         'assumes': 4,\n         'highest': 15,\n         'degree': 28,\n         'reliability': 5,\n         'normative': 58,\n         'guarantees': 109,\n         'independence': 76,\n         'operation': 27,\n         'conditions': 267,\n         'regulated': 84,\n         'considered': 79,\n         'one': 360,\n         'ppc': 7,\n         '“against': 2,\n         'enjoy': 11,\n         'jurisdiction': 18,\n         'procedural': 68,\n         'actions': 67,\n         'code': 70,\n         'carried': 82,\n         'accordance': 122,\n         'rules': 106,\n         'international': 109,\n         'therefore': 197,\n         'fact': 118,\n         'introduced': 46,\n         'without': 166,\n         'corresponding': 11,\n         'text': 181,\n         'lead': 35,\n         'procurement': 47,\n         '\"all': 4,\n         '\"none': 1,\n         'characteristics': 14,\n         'excluding': 10,\n         'granting': 35,\n         'expressed': 62,\n         'unequivocal': 3,\n         'issue': 270,\n         'decision': 540,\n         'v': 43,\n         'cc': 4,\n         'held': 61,\n         'features': 18,\n         'criteria': 25,\n         'listed': 52,\n         'allows': 44,\n         'groups': 55,\n         'socially': 19,\n         'necessary': 122,\n         'justified': 36,\n         'maintaining': 9,\n         'primacy': 2,\n         'arms': 3,\n         'analogy': 4,\n         'reproduced': 6,\n         'quality': 22,\n         '“candidate': 2,\n         'representative': 37,\n         '”does': 2,\n         'correspond': 20,\n         'limited': 80,\n         'ones': 93,\n         'excludes': 36,\n         'form': 50,\n         'inequality': 18,\n         'hand': 119,\n         'stated': 94,\n         'introduces': 7,\n         'short': 8,\n         'privilege': 32,\n         'narrow': 8,\n         'circle': 18,\n         'serve': 19,\n         '“interest': 3,\n         'defensible': 5,\n         'cited': 44,\n         'submitter': 6,\n         'direct': 42,\n         'bearing': 8,\n         'а': 2,\n         'first': 133,\n         'provisions>': 1,\n         'bringing': 11,\n         '“the': 74,\n         'continues': 13,\n         'exactly': 18,\n         'days': 17,\n         'hardly': 14,\n         'assumed': 35,\n         'impossibility': 9,\n         'member': 69,\n         'prosecuted': 5,\n         'repression': 6,\n         'thwarted': 4,\n         'acceptable': 12,\n         'put': 26,\n         'forward': 12,\n         'following': 101,\n         'arguments:': 3,\n         'dropping': 5,\n         'guaranteed': 75,\n         'law>': 3,\n         'jeopardize:': 2,\n         'possibility': 150,\n         'loss': 3,\n         'organs': 11,\n         'compromising': 4,\n         'able': 43,\n         'spoil': 1,\n         'electoral': 19,\n         'vote': 69,\n         'actually': 18,\n         'jeopardize': 2,\n         'selective': 4,\n         'right': 847,\n         'separation': 56,\n         'powers': 244,\n         'ability': 11,\n         'executive': 128,\n         'manipulate': 4,\n         'influence': 18,\n         'composition': 54,\n         'future': 25,\n         'waiver': 2,\n         'inevitably': 7,\n         'led': 12,\n         'disturbance': 2,\n         'detriment': 9,\n         'legislature': 50,\n         'c': 174,\n         'distort': 2,\n         'national': 650,\n         'assembly': 440,\n         'supreme': 341,\n         'legislative': 122,\n         'body': 191,\n         'real': 109,\n         'danger': 17,\n         'distorting': 4,\n         \"people's\": 49,\n         'sovereignty': 12,\n         'referred': 63,\n         'whole': 32,\n         'state': 1328,\n         'power': 198,\n         'comes': 18,\n         'violation': 132,\n         'discredit': 5,\n         'essence': 40,\n         '\"rule': 2,\n         'law\"': 9,\n         'parliamentarism': 2,\n         'background': 6,\n         'dangers': 2,\n         'post-totalitarian': 4,\n         'far': 54,\n         'seems': 9,\n         'short-term': 2,\n         'insignificant': 5,\n         'statistical': 5,\n         'plan': 7,\n         'number': 108,\n         'nominated': 12,\n         'considerations': 112,\n         'admissible': 24,\n         'even': 103,\n         'prosecutor:': 2,\n         'claim': 93,\n         'petitioner': 8,\n         'convincing': 8,\n         'cannot': 249,\n         'declaratively': 2,\n         'deduced': 4,\n         'categorically': 4,\n         'norms': 121,\n         'current': 71,\n         'bulgarian': 148,\n         'legislation': 99,\n         'sufficiently': 6,\n         'regard': 81,\n         'penal': 18,\n         'although': 54,\n         'reference': 32,\n         'regulate': 43,\n         'foreign': 41,\n         'nationals': 5,\n         'applies': 57,\n         'territory': 18,\n         'foreigners': 48,\n         'use': 253,\n         'decides': 8,\n         'adopted': 163,\n         'constitution:': 12,\n         '\"everyone': 7,\n         'accused': 18,\n         'authority': 78,\n         'definitely': 5,\n         'irrelevant': 26,\n         'content': 134,\n         'makes': 24,\n         'incompatible': 16,\n         '\"accused': 3,\n         'crime\"': 3,\n         '\"candidate': 2,\n         'mp\"': 2,\n         'obviously': 39,\n         'means': 137,\n         '\"anyone\"': 2,\n         'virtue': 45,\n         'act': 579,\n         '\"everyone\"': 2,\n         'forbids': 2,\n         'concern': 16,\n         'statement': 79,\n         'hinder': 7,\n         '”according': 4,\n         '\"\"': 1,\n         'shall': 97,\n         'presumed': 8,\n         'innocent': 8,\n         'contrary': 92,\n         'entry': 77,\n         'force': 154,\n         'sentence': 56,\n         '“perpetrators': 1,\n         'meaning': 152,\n         'already': 90,\n         'convicted': 9,\n         'persecution': 8,\n         'difficult': 17,\n         'effective': 27,\n         'quoted': 7,\n         'much': 13,\n         'paradoxicality': 2,\n         'readiness': 2,\n         'rpop': 3,\n         'qualified': 7,\n         'potential': 3,\n         'criminals': 2,\n         'believe': 68,\n         '\"argument\"': 2,\n         'proves': 3,\n         'unnecessary': 4,\n         'additional': 94,\n         'pdo': 3,\n         'rejected': 47,\n         'regards': 12,\n         'integrity': 8,\n         'respected': 7,\n         'necessity': 7,\n         'justification': 11,\n         'defended': 2,\n         'persuasiveness': 3,\n         'priority': 16,\n         'given': 109,\n         'directly': 78,\n         'confronted': 3,\n         'popular': 9,\n         'freedom': 74,\n         'suffrage': 48,\n         'tu': 6,\n         'conclusion': 89,\n         'declare': 50,\n         'regarding': 183,\n         'words': 91,\n         '“and': 5,\n         'advocates”': 2,\n         'rest': 11,\n         'attorney': 11,\n         'dismissed': 6,\n         'council': 368,\n         'ministers': 344,\n         'dear': 66,\n         'mr': 15,\n         'president': 135,\n         'madaments': 12,\n         'interested': 84,\n         'mo': 57,\n         'formed': 35,\n         'establishing': 63,\n         '(zinp)': 6,\n         'states': 85,\n         'found': 27,\n         'maintained': 30,\n         'determines': 38,\n         'exceptions': 24,\n         'field': 37,\n         'clarification': 14,\n         'compliance': 99,\n         'follows': 59,\n         'questions': 13,\n         'need': 92,\n         'answered:': 2,\n         'whether': 136,\n         'individuals': 38,\n         'al': 63,\n         'constitution;': 7,\n         'liability': 48,\n         'holding': 48,\n         'positions': 61,\n         '(art': 84,\n         'ti': 3,\n         'ichl': 8,\n         'regulation': 129,\n         'contained': 51,\n         'grounds': 177,\n         'acts': 284,\n         'obligation': 143,\n         'treatment': 13,\n         'prohibits': 16,\n         'restrict': 25,\n         'create': 76,\n         'sex': 6,\n         '“beliefs': 2,\n         'signs': 12,\n         'non-admission': 7,\n         'clear': 57,\n         'basis': 139,\n         'special': 93,\n         'participation': 127,\n         'elections': 165,\n         'members': 238,\n         'separate': 58,\n         'group': 126,\n         'ensure': 43,\n         'exercising': 34,\n         'active': 32,\n         'passive': 28,\n         'acquire': 11,\n         'meets': 8,\n         'advocate': 4,\n         'acquired': 52,\n         'citizen': 35,\n         'registers': 4,\n         'require': 18,\n         'presence': 28,\n         'attribute': 6,\n         'characterized': 3,\n         'feature': 14,\n         'prohibition': 50,\n         'restricting': 8,\n         'exhaustive': 8,\n         'reasons': 120,\n         'states:': 14,\n         '\"it': 4,\n         'explicitly': 118,\n         'mentioned': 47,\n         'permissible': 20,\n         'must': 157,\n         'emphasize': 8,\n         'however': 127,\n         'question': 102,\n         'comprehensive': 8,\n         'indication': 12,\n         'preventing': 4,\n         'f': 19,\n         'guarantee': 90,\n         'unjustified': 12,\n         'extension': 5,\n         'admission': 8,\n         \"citizens'\": 10,\n         'indisputable': 19,\n         'exercise': 147,\n         'lasts': 2,\n         '(article': 47,\n         'procurement)': 2,\n         'arbitrarily': 8,\n         'extended': 11,\n         'legislator': 244,\n         'opportunity': 103,\n         'prepare': 8,\n         'conduct': 33,\n         'campaigning': 3,\n         'time': 122,\n         'defend': 25,\n         'unfounded>': 2,\n         'accusation': 2,\n         'initiation': 4,\n         'proceedings': 77,\n         'deputy': 41,\n         'harmed': 6,\n         'irreparable': 3,\n         'way': 153,\n         'frustrate': 5,\n         'results': 18,\n         'discrediting': 13,\n         'voters': 46,\n         'well': 203,\n         'represents': 12,\n         'terminated': 33,\n         'drop': 2,\n         'charges': 4,\n         'change': 66,\n         'resumed': 2,\n         'really': 14,\n         'probability': 4,\n         'occurrence': 12,\n         'similar': 37,\n         'hypothesis': 37,\n         'process': 74,\n         'requires': 47,\n         'prevent': 16,\n         'factors': 4,\n         'external': 8,\n         'circumstances': 42,\n         'the>': 19,\n         'free': 100,\n         'consequence': 22,\n         'perception': 11,\n         'gives': 31,\n         'concluded': 35,\n         'contradict': 122,\n         'establish': 116,\n         'systematic': 26,\n         'place': 59,\n         'texts': 107,\n         'borrowers': 2,\n         'exhaust': 5,\n         'constitutionally>': 3,\n         'admissible>': 2,\n         'possibilities': 12,\n         'for>': 10,\n         'restriction': 59,\n         'part': 363,\n         'statute': 8,\n         'relevant': 76,\n         'supported': 33,\n         'beginning': 15,\n         'overall': 13,\n         'implementation': 122,\n         'matter': 62,\n         'criminally': 4,\n         'responsible': 28,\n         'hypotheses': 26,\n         'release': 6,\n         '\"in': 19,\n         'lacks': 8,\n         'explicit': 45,\n         'institution': 31,\n         'applicable': 27,\n         'vice-president': 3,\n         'irresponsibility': 13,\n         'extent': 33,\n         'included': 60,\n         'chapter': 58,\n         'surrender': 2,\n         'obligations': 63,\n         'establishes': 26,\n         '(regardless': 4,\n         'established)': 3,\n         'second': 66,\n         'unified': 25,\n         'respectively': 44,\n         'three': 63,\n         'four': 4,\n         'six': 14,\n         'interpretation': 261,\n         'imposes': 18,\n         'set': 101,\n         'objective': 19,\n         'settling': 4,\n         'limitation': 10,\n         'settled': 22,\n         'framework': 56,\n         'contradiction': 180,\n         'defined': 49,\n         'limiting': 13,\n         '“responsibility': 2,\n         'of>': 18,\n         'proxies': 2,\n         'sets': 12,\n         'another': 121,\n         'different': 117,\n         'transfer': 25,\n         'block': 4,\n         'forming': 10,\n         'not>': 3,\n         'exclude': 47,\n         'sped': 2,\n         'deputies': 17,\n         'obstacle': 25,\n         'unfounded': 117,\n         'lawyers': 12,\n         'foundation': 10,\n         'xe': 28,\n         'merits': 51,\n         'establishment': 68,\n         'reads:': 17,\n         'maintains': 28,\n         'provides': 121,\n         'enshrined': 26,\n         'ъ': 3,\n         'pa': 1,\n         'za': 1,\n         'nstvo': 1,\n         'zabt': 1,\n         'imitation': 1,\n         ':': 31,\n         'niation': 1,\n         'defines': 12,\n         '(and': 10,\n         'restrictively)': 1,\n         'institutions': 46,\n         'freedoms': 65,\n         'constitutionalism': 8,\n         'interpreted': 42,\n         'restrictively': 6,\n         'prevents': 5,\n         'therein': 8,\n         'logical': 22,\n         'proclaims': 10,\n         'provide': 108,\n         'protection': 361,\n         'freedoms;': 1,\n         'notwithstanding': 3,\n         'differences': 12,\n         'democratic': 38,\n         'society': 88,\n         'un': 3,\n         'convention': 79,\n         'instruments': 4,\n         'application': 117,\n         'concepts': 8,\n         'discrimination': 12,\n         'consistently': 2,\n         'invariably': 1,\n         'prohibiting': 3,\n         'difference': 32,\n         'echr': 13,\n         'breach': 2,\n         'occurs': 6,\n         'when:': 1,\n         'attitude': 10,\n         'towards': 14,\n         'reasonable': 14,\n         'missing': 10,\n         'proportionality': 9,\n         'pursued': 8,\n         'employed': 2,\n         'alleges': 11,\n         'bear': 11,\n         'endure': 1,\n         'imposed': 36,\n         'punishment': 4,\n         'determined': 117,\n         'limit': 42,\n         'vice': 14,\n         'versa': 10,\n         'unconditionally': 12,\n         'laws': 220,\n         'limitations': 8,\n         'balancing': 8,\n         'interests': 114,\n         'individual': 109,\n         'creating': 18,\n         'temporary': 17,\n         'permanent': 22,\n         'incorrect': 22,\n         '”are': 1,\n         'created': 143,\n         'defense': 56,\n         'well-known': 3,\n         'realization': 11,\n         'minors': 2,\n         'insane': 1,\n         'liable': 7,\n         'relaxed': 1,\n         'pending': 5,\n         'sudden': 1,\n         'sick': 1,\n         'stopped': 1,\n         'etc': 40,\n         '\"privileges\"': 1,\n         'undoubtedly': 29,\n         'namely': 20,\n         'protecting': 12,\n         '(as': 7,\n         'fair': 44,\n         'elections)': 2,\n         'dispute': 47,\n         'constitutionality': 60,\n         'disputed': 125,\n         'light': 16,\n         'generally': 27,\n         'accepted': 75,\n         'concept': 55,\n         '\"privilege\"': 1,\n         '“non-discrimination”': 1,\n         'justify': 26,\n         'unforeseen': 5,\n         'constitutes': 20,\n         'requirement': 99,\n         'non-discrimination': 2,\n         'echk:': 1,\n         '“specific': 3,\n         'expression': 46,\n         'common': 28,\n         '(of': 3,\n         'law)': 9,\n         'attracted': 2,\n         'argument': 39,\n         'attracting': 2,\n         'nature': 97,\n         'згал': 1,\n         '“everyone': 2,\n         'period\"': 1,\n         'seek': 31,\n         'convinced': 3,\n         'admissibility': 17,\n         'deriving': 1,\n         '\"provisions': 1,\n         'constitution\"': 2,\n         'derived': 4,\n         \"'s\": 9,\n         'arbitrariness': 6,\n         'carry': 42,\n         'refer': 30,\n         'extradite': 2,\n         'arrested': 1,\n         'person': 102,\n         'designed': 7,\n         'protect': 38,\n         'liberty': 6,\n         'security': 300,\n         'arbitrary': 10,\n         'illegal': 30,\n         'arrests': 1,\n         'interim': 1,\n         'contested': 27,\n         'relation': 39,\n         'impugned': 23,\n         'production': 38,\n         'sufficient': 42,\n         'data': 65,\n         'performance': 55,\n         'investigative': 8,\n         'postpones': 2,\n         'month': 2,\n         'moment': 16,\n         \"defendant's\": 1,\n         'confrontation': 1,\n         'determine': 63,\n         'known': 12,\n         'outside': 35,\n         'mandatory': 32,\n         'prosecute': 1,\n         'usual': 2,\n         'limits': 17,\n         'completion': 6,\n         'country': 176,\n         'unlikely': 4,\n         'affect': 41,\n         'significantly': 15,\n         'duration': 10,\n         'unreasonably': 5,\n         '“in': 7,\n         'norm': 187,\n         'obstacles': 7,\n         'administration': 82,\n         'presented': 20,\n         'tn:': 1,\n         'lie': 2,\n         'ax': 1,\n         'aims': 15,\n         'inadmissible': 60,\n         'institutional': 5,\n         'universal': 12,\n         'secret': 45,\n         'ballot': 36,\n         'чп': 1,\n         'cd': 28,\n         'october': 25,\n         'ruled': 37,\n         '\"the': 54,\n         '(yes': 1,\n         'mention': 4,\n         'honest': 1,\n         'doubt': 18,\n         'last': 31,\n         'requirements': 124,\n         'internal': 14,\n         'inherent': 18,\n         'qualities': 12,\n         'proclaimed': 41,\n         'documents': 113,\n         'declaration': 30,\n         'covenant': 11,\n         'civil': 167,\n         'protocol)': 1,\n         'worded': 3,\n         'positive': 7,\n         'march': 34,\n         'ei-movsh': 1,\n         'apd': 1,\n         'setzau': 1,\n         'area': 89,\n         'abstain': 1,\n         'non-interference': 4,\n         'taking': 33,\n         'g': 16,\n         '“': 25,\n         'exists': 6,\n         'produce': 6,\n         'hold': 35,\n         'manner': 38,\n         'includes': 42,\n         'creation': 41,\n         'information': 258,\n         'value': 38,\n         'capacity': 30,\n         'officials': 9,\n         'parties': 183,\n         'receive': 47,\n         'privileged': 2,\n         'appearances': 2,\n         'others': 68,\n         'electronic': 8,\n         'media': 28,\n         'publication': 7,\n         'response': 3,\n         'infringement': 7,\n         'good': 26,\n         'name': 67,\n         'periodical': 1,\n         'freely': 14,\n         'availability': 6,\n         'pressure': 8,\n         'participate': 50,\n         'informed': 4,\n         'choice': 16,\n         'especially': 19,\n         'purposes': 12,\n         'existing': 110,\n         'applicants': 69,\n         'contestants': 1,\n         'persecuted': 1,\n         'disadvantaged': 3,\n         'participants': 17,\n         'khan': 1,\n         'tite': 1,\n         '”for': 1,\n         'elect': 11,\n         'citizenship': 2,\n         'reached': 5,\n         'age': 10,\n         'placed': 20,\n         'guardianship': 5,\n         'serving': 4,\n         'imprisonment': 4,\n         'broadly': 2,\n         'suspected': 3,\n         'instituted': 20,\n         'moreover': 34,\n         'since': 41,\n         '“restrictions': 1,\n         'excess': 3,\n         'taken': 64,\n         'together': 7,\n         'opening': 6,\n         'exist': 24,\n         'goes': 4,\n         'beyond': 15,\n         ...})"
     },
     "metadata": {},
     "execution_count": 5
    }
   ],
   "source": [
    "Counter(court_words)"
   ]
  },
  {
   "cell_type": "code",
   "execution_count": 6,
   "metadata": {},
   "outputs": [
    {
     "output_type": "execute_result",
     "data": {
      "text/plain": "{'art': 2521,\n 'law': 2050,\n 'para': 1892,\n 'constitution': 1563,\n 'constitutional': 1348,\n 'state': 1328,\n 'court': 1148,\n '-': 1133,\n 'article': 1111,\n 'right': 847,\n 'property': 788,\n 'legal': 779,\n 'provision': 678,\n 'paragraph': 664,\n 'national': 650,\n 'rights': 623,\n 'act': 579,\n 'request': 575,\n 'case': 574,\n 'decision': 540,\n '§': 523,\n 'public': 504,\n 'according': 502,\n 'item': 481,\n 'also': 463,\n 'provisions': 457,\n 'assembly': 440,\n 'budget': 413,\n 'council': 368,\n 'bulgaria': 367,\n 'part': 363,\n 'general': 362,\n 'protection': 361,\n 'one': 360,\n 'ministers': 344,\n 'supreme': 341,\n '№': 341,\n ')': 337,\n 'activity': 330,\n 'judiciary': 328,\n 'municipal': 324,\n 'administrative': 323,\n 'republic': 313,\n 'citizens': 313,\n 'order': 311,\n 'provided': 305,\n 'security': 300,\n 'minister': 293,\n 'principle': 289,\n 'health': 285}"
     },
     "metadata": {},
     "execution_count": 6
    }
   ],
   "source": [
    "common_words = dict(Counter(\" \".join(court_words).split()).most_common(50))\n",
    "\n",
    "common_words"
   ]
  }
 ],
 "metadata": {
  "language_info": {
   "codemirror_mode": {
    "name": "ipython",
    "version": 3
   },
   "file_extension": ".py",
   "mimetype": "text/x-python",
   "name": "python",
   "nbconvert_exporter": "python",
   "pygments_lexer": "ipython3",
   "version": "3.7.6-final"
  },
  "orig_nbformat": 2,
  "kernelspec": {
   "name": "python3",
   "display_name": "Python 3"
  }
 },
 "nbformat": 4,
 "nbformat_minor": 2
}