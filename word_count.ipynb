{
 "cells": [
  {
   "cell_type": "code",
   "execution_count": 122,
   "metadata": {
    "tags": []
   },
   "outputs": [
    {
     "output_type": "stream",
     "name": "stderr",
     "text": "[nltk_data] Downloading package punkt to /home/paulj1989/nltk_data...\n[nltk_data]   Package punkt is already up-to-date!\n"
    },
    {
     "output_type": "execute_result",
     "data": {
      "text/plain": "True"
     },
     "metadata": {},
     "execution_count": 122
    }
   ],
   "source": [
    "import re\n",
    "import nltk\n",
    "from nltk import tokenize\n",
    "from collections import Counter\n",
    "from nltk.corpus import stopwords\n",
    "from string import punctuation\n",
    "from itertools import chain\n",
    "nltk.download('punkt')"
   ]
  },
  {
   "cell_type": "code",
   "execution_count": 123,
   "metadata": {
    "tags": []
   },
   "outputs": [],
   "source": [
    "courtfile = open(\"/home/paulj1989/Repositories/Github/bulgarian-constitutional-court-decisions/data/all_txt_data.txt\")\n",
    "courttext = courtfile.read()\n",
    "courtfile.close()"
   ]
  },
  {
   "cell_type": "code",
   "execution_count": 124,
   "metadata": {},
   "outputs": [],
   "source": [
    "stop_words = stopwords.words('english')\n",
    "\n",
    "def clean(x):\n",
    "    x = x.lower()\n",
    "    x = re.sub('[.!?/+{}\\\\\\\\,<©]+', ' ', x)\n",
    "    x = re.sub(r'[0-9]+', \" \", x)\n",
    "    x = x.split()\n",
    "    x = [word for word in x if word not in stopwords.words('english')]\n",
    "    return x"
   ]
  },
  {
   "cell_type": "code",
   "execution_count": 125,
   "metadata": {
    "tags": []
   },
   "outputs": [],
   "source": [
    "court_words = clean(courttext)"
   ]
  },
  {
   "cell_type": "code",
   "execution_count": 126,
   "metadata": {
    "tags": []
   },
   "outputs": [],
   "source": [
    "count = Counter(court_words)"
   ]
  },
  {
   "cell_type": "code",
   "execution_count": 127,
   "metadata": {},
   "outputs": [
    {
     "output_type": "execute_result",
     "data": {
      "text/plain": "{'opinion': 1,\n 'lawyer': 1,\n 'mikhail': 1,\n 'ekimdzhiev': 1,\n 'plovdiv': 1,\n 'otets': 1,\n 'paisiy': 1,\n 'ho': 1,\n 'street': 1,\n 'tel': 1,\n 'fax:': 1,\n 'plenipotentiary': 1,\n 'association': 1,\n 'european': 1,\n 'integration': 1,\n 'human': 1,\n 'rights': 1,\n '-': 1,\n 'procedure': 1,\n 'order': 1,\n 'constitutional': 1,\n 'court': 1,\n 'may': 1,\n '“association': 1,\n '”was': 1,\n 'constituted': 1,\n 'stakeholder': 1,\n 'party': 1,\n 'case': 1,\n 'initiated': 1}"
     },
     "metadata": {},
     "execution_count": 127
    }
   ],
   "source": [
    "common_words = dict(Counter(\" \".join(count).split()).most_common(30))\n",
    "\n",
    "common_words"
   ]
  }
 ],
 "metadata": {
  "language_info": {
   "codemirror_mode": {
    "name": "ipython",
    "version": 3
   },
   "file_extension": ".py",
   "mimetype": "text/x-python",
   "name": "python",
   "nbconvert_exporter": "python",
   "pygments_lexer": "ipython3",
   "version": "3.7.6-final"
  },
  "orig_nbformat": 2,
  "kernelspec": {
   "name": "python3",
   "display_name": "Python 3"
  }
 },
 "nbformat": 4,
 "nbformat_minor": 2
}