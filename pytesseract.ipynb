{
 "cells": [
  {
   "cell_type": "code",
   "execution_count": 3,
   "metadata": {
    "tags": []
   },
   "outputs": [],
   "source": [
    "from PIL import Image\n",
    "import pytesseract\n",
    "from pdf2image import convert_from_path"
   ]
  },
  {
   "cell_type": "markdown",
   "metadata": {},
   "source": [
    "1. Convert to images"
   ]
  },
  {
   "cell_type": "code",
   "execution_count": 6,
   "metadata": {},
   "outputs": [],
   "source": [
    "images = convert_from_path('/home/paulj1989/GDrive/Decision12from2001(Case12from2001)/Decision12from2001AmicusCurae/2001_Decision12_European_Integration_and_Human_Rights_Association.PDF', grayscale=True)"
   ]
  },
  {
   "cell_type": "code",
   "execution_count": 7,
   "metadata": {
    "tags": []
   },
   "outputs": [],
   "source": [
    "for i, image in enumerate(images):\n",
    "    fname = \"image\" + str(i) + \".png\"\n",
    "    image.save(fname, \"PNG\")"
   ]
  },
  {
   "cell_type": "markdown",
   "metadata": {},
   "source": [
    "2. Set the path of your tesseract install"
   ]
  },
  {
   "cell_type": "code",
   "execution_count": 2,
   "metadata": {},
   "outputs": [],
   "source": [
    "pytesseract.pytesseract.tesseract_cmd = r'/usr/bin/tesseract' "
   ]
  },
  {
   "cell_type": "code",
   "execution_count": 11,
   "metadata": {
    "tags": []
   },
   "outputs": [],
   "source": [
    "bul_text = pytesseract.image_to_string('images.txt', lang=\"bul\")"
   ]
  },
  {
   "cell_type": "code",
   "execution_count": 13,
   "metadata": {
    "tags": []
   },
   "outputs": [
    {
     "output_type": "stream",
     "name": "stdout",
     "text": "СТАНОВИЩЕ\nОТ “ШЕЛ БЪЛГАРИЯ” АД\n\nПо клд. Хо 1/2001 г.\n\nУВАЖАЕМИ КОНСТИТУЦИОННИ СЪДИИ,\n\nОт името на “Шел България” АД моля да приемете, най -\nнапред, удовлетворението от предоставената ни възможност да\nбъдем заинтересувана страна по дело, което се разглежда от\nКонституционния съд и да вземем отношение по въпроси, които\nсъдът е призован да реши.\n\nКато един от най- големите инвеститори в България, “Шел\nБългария” АД е дружество, което е заинтересувано от стабилността\nна правния ред. Това включва в себе си и стабилност на\nправоотношенията, в които частноправните субекти са страни наред\nсъс субекти, които имат и публичноправно качество и упражняват и\nвластнически правомощия.\n\nКакто в молбата ни за нашето конституиране като\nзаинтересувана страна по делото е отбелязано, искането поставя\nвъпроси, от чието разрешаване по определен начин дружеството е\nзаинтересувано. Става дума за възможността чрез законодателен акт\nда се въздействува върху правоотношения, които са били създадени\nна основата на действащото - към момента на възникването им-\nзаконодателство. В това отношение моля да имате предвид, че\nслучаят с 6 6 ПЗРЗДС не е единствен. Аналогична разпоредба се\nсъдържа и в Преходните и заключителни разпоредби на Закона за\nобщинската собственост ( също 6 6).\n\fСчитаме, че уважаване на искането, отправено до\nКонституционния съд по настоящето дело , ще въздейства така\nвърху законодателната власт, че ще доведе до премахването от\nдействащото законодателство на всички случаи, в които държавата\nсе е намесила чрез закон в частноправни отношения в предели,\nкоито надхвърлят конституционно установените и допустими\nграници на държавна намеса.\n\nОт гледна точка на > конституционните основи на\nикономическата система в Република България, които се съдържат в\nразпоредбата на чл.19 от Конституцията, ние поддържаме\nстановището,че държавата и общините могат да имат частна\nсобственост заради откритата и пред тях възможност да извършват\nстопанска дейност и да бъдат участници в гражданския оборот. При\nупражняването на частната собственост обаче всички правни\nсубекти, включително държавата и общините, са равнопоставени.\nЧл. 19, ал.2 и 4 от Конституцията се отнасят не само за гражданите и\nюридическите лица, но и за държавата и общините.\n\nТова са положения, приети от Конституционния съд още в\nзлини или оиааии\nотнасят - освен за всички правни субекти - и за органите на\nзаконодателната, изпълнителната и съдебната власт. От тях следва\nоще, че след като съществуващият правен ред е допускал в даден\nмомент предоставяне на право на ползуване върху имоти - частна\nдържавна или общинска собственост, без ограничения на периода, за\nкойто ползването се отстъпва, не е допустимо чрез законодателна\nпромяна този срок да бъде променян и спрямо възникнали вече\nправоотношения. Придаването на обратна сила на закон не\nсъответства на принципа на правовата държава, заложен в\nбългарската Конституция.\n\nМоля при разглеждането и решаването на горното дело да\n\nвземете предвид и тези съображения.\nя\n"
    }
   ],
   "source": [
    "print(bul_text)"
   ]
  },
  {
   "cell_type": "markdown",
   "metadata": {},
   "source": [
    "## TODO\n",
    "\n",
    "- Finish writing up the process for carrying this out in Python\n",
    "- Look at how to improve image quality and possibly how to reduce the steps required\n",
    "    - Is it possible to trim everything using imagemagick and avoid having to crop individually?\n",
    "- Carry out the rest of the conversions\n",
    "- Fill out the spreadsheet\n",
    "- Read the papers that you've been sent\n",
    "- Write up what Sam could do (work on the Counters stuff and basic text analysis, read up on LexNLP, look at word embeddings models, and see if she can make it work in R?)"
   ]
  },
  {
   "cell_type": "code",
   "execution_count": null,
   "metadata": {},
   "outputs": [],
   "source": []
  }
 ],
 "metadata": {
  "language_info": {
   "codemirror_mode": {
    "name": "ipython",
    "version": 3
   },
   "file_extension": ".py",
   "mimetype": "text/x-python",
   "name": "python",
   "nbconvert_exporter": "python",
   "pygments_lexer": "ipython3",
   "version": "3.7.6-final"
  },
  "orig_nbformat": 2,
  "kernelspec": {
   "name": "python3",
   "display_name": "Python 3"
  }
 },
 "nbformat": 4,
 "nbformat_minor": 2
}